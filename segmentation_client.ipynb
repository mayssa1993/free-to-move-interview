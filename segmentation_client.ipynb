{
 "cells": [
  {
   "cell_type": "markdown",
   "metadata": {},
   "source": [
    "In this section we will code the segmentation of the client"
   ]
  },
  {
   "cell_type": "markdown",
   "metadata": {},
   "source": [
    "Importation des librairie : "
   ]
  },
  {
   "cell_type": "code",
   "execution_count": 23,
   "metadata": {},
   "outputs": [],
   "source": [
    "import pandas as pd \n",
    "import numpy as np\n",
    "import datetime\n",
    "import matplotlib.pyplot as plt\n",
    "import seaborn as sns\n",
    "from sklearn.preprocessing import StandardScaler\n",
    "from scipy import stats"
   ]
  },
  {
   "cell_type": "markdown",
   "metadata": {},
   "source": [
    "Importation des données"
   ]
  },
  {
   "cell_type": "code",
   "execution_count": 5,
   "metadata": {},
   "outputs": [],
   "source": [
    "PATH=\".\"\n",
    "customer_segmentation = PATH+\"/customer_segmentation.csv\""
   ]
  },
  {
   "cell_type": "code",
   "execution_count": 6,
   "metadata": {},
   "outputs": [],
   "source": [
    "data_seg = pd.read_csv(customer_segmentation,sep=\";\",parse_dates=True)"
   ]
  },
  {
   "cell_type": "code",
   "execution_count": 185,
   "metadata": {},
   "outputs": [
    {
     "data": {
      "text/html": [
       "<div>\n",
       "<style scoped>\n",
       "    .dataframe tbody tr th:only-of-type {\n",
       "        vertical-align: middle;\n",
       "    }\n",
       "\n",
       "    .dataframe tbody tr th {\n",
       "        vertical-align: top;\n",
       "    }\n",
       "\n",
       "    .dataframe thead th {\n",
       "        text-align: right;\n",
       "    }\n",
       "</style>\n",
       "<table border=\"1\" class=\"dataframe\">\n",
       "  <thead>\n",
       "    <tr style=\"text-align: right;\">\n",
       "      <th></th>\n",
       "      <th>customer_unique_id</th>\n",
       "      <th>customer_zip_code_prefix</th>\n",
       "      <th>customer_city</th>\n",
       "      <th>customer_state</th>\n",
       "      <th>order_purchase_timestamp</th>\n",
       "      <th>order_id</th>\n",
       "      <th>order_status</th>\n",
       "      <th>quantity_Item</th>\n",
       "      <th>basket_price</th>\n",
       "      <th>basket_freight_value</th>\n",
       "    </tr>\n",
       "  </thead>\n",
       "  <tbody>\n",
       "    <tr>\n",
       "      <th>0</th>\n",
       "      <td>4546caea018ad8c692964e3382debd19</td>\n",
       "      <td>5882.0</td>\n",
       "      <td>sao paulo</td>\n",
       "      <td>SP</td>\n",
       "      <td>2017-07-16 18:19:25</td>\n",
       "      <td>8272b63d03f5f79c56e9e4120aec44ef</td>\n",
       "      <td>delivered</td>\n",
       "      <td>21</td>\n",
       "      <td>31.80</td>\n",
       "      <td>164.37</td>\n",
       "    </tr>\n",
       "    <tr>\n",
       "      <th>1</th>\n",
       "      <td>698e1cf81d01a3d389d96145f7fa6df8</td>\n",
       "      <td>74825.0</td>\n",
       "      <td>goiania</td>\n",
       "      <td>GO</td>\n",
       "      <td>2017-08-23 09:22:34</td>\n",
       "      <td>ab14fdcfbe524636d65ee38360e22ce8</td>\n",
       "      <td>delivered</td>\n",
       "      <td>20</td>\n",
       "      <td>1974.00</td>\n",
       "      <td>288.80</td>\n",
       "    </tr>\n",
       "    <tr>\n",
       "      <th>2</th>\n",
       "      <td>c402f431464c72e27330a67f7b94d4fb</td>\n",
       "      <td>3029.0</td>\n",
       "      <td>sao paulo</td>\n",
       "      <td>SP</td>\n",
       "      <td>2018-02-22 15:30:41</td>\n",
       "      <td>1b15974a0141d54e36626dca3fdc731a</td>\n",
       "      <td>delivered</td>\n",
       "      <td>20</td>\n",
       "      <td>2000.00</td>\n",
       "      <td>202.40</td>\n",
       "    </tr>\n",
       "    <tr>\n",
       "      <th>3</th>\n",
       "      <td>0f5ac8d5c31de21d2f25e24be15bbffb</td>\n",
       "      <td>84600.0</td>\n",
       "      <td>uniao da vitoria</td>\n",
       "      <td>PR</td>\n",
       "      <td>2017-11-23 20:30:52</td>\n",
       "      <td>428a2f660dc84138d969ccd69a0ab6d5</td>\n",
       "      <td>delivered</td>\n",
       "      <td>15</td>\n",
       "      <td>982.35</td>\n",
       "      <td>243.30</td>\n",
       "    </tr>\n",
       "    <tr>\n",
       "      <th>4</th>\n",
       "      <td>11f97da02237a49c8e783dfda6f50e8e</td>\n",
       "      <td>74885.0</td>\n",
       "      <td>goiania</td>\n",
       "      <td>GO</td>\n",
       "      <td>2017-01-30 21:44:49</td>\n",
       "      <td>9ef13efd6949e4573a18964dd1bbe7f5</td>\n",
       "      <td>delivered</td>\n",
       "      <td>15</td>\n",
       "      <td>765.00</td>\n",
       "      <td>18.00</td>\n",
       "    </tr>\n",
       "  </tbody>\n",
       "</table>\n",
       "</div>"
      ],
      "text/plain": [
       "                 customer_unique_id  customer_zip_code_prefix  \\\n",
       "0  4546caea018ad8c692964e3382debd19                    5882.0   \n",
       "1  698e1cf81d01a3d389d96145f7fa6df8                   74825.0   \n",
       "2  c402f431464c72e27330a67f7b94d4fb                    3029.0   \n",
       "3  0f5ac8d5c31de21d2f25e24be15bbffb                   84600.0   \n",
       "4  11f97da02237a49c8e783dfda6f50e8e                   74885.0   \n",
       "\n",
       "      customer_city customer_state order_purchase_timestamp  \\\n",
       "0         sao paulo             SP      2017-07-16 18:19:25   \n",
       "1           goiania             GO      2017-08-23 09:22:34   \n",
       "2         sao paulo             SP      2018-02-22 15:30:41   \n",
       "3  uniao da vitoria             PR      2017-11-23 20:30:52   \n",
       "4           goiania             GO      2017-01-30 21:44:49   \n",
       "\n",
       "                           order_id order_status  quantity_Item  basket_price  \\\n",
       "0  8272b63d03f5f79c56e9e4120aec44ef    delivered             21         31.80   \n",
       "1  ab14fdcfbe524636d65ee38360e22ce8    delivered             20       1974.00   \n",
       "2  1b15974a0141d54e36626dca3fdc731a    delivered             20       2000.00   \n",
       "3  428a2f660dc84138d969ccd69a0ab6d5    delivered             15        982.35   \n",
       "4  9ef13efd6949e4573a18964dd1bbe7f5    delivered             15        765.00   \n",
       "\n",
       "   basket_freight_value  \n",
       "0                164.37  \n",
       "1                288.80  \n",
       "2                202.40  \n",
       "3                243.30  \n",
       "4                 18.00  "
      ]
     },
     "execution_count": 185,
     "metadata": {},
     "output_type": "execute_result"
    }
   ],
   "source": [
    "data_seg.head()"
   ]
  },
  {
   "cell_type": "code",
   "execution_count": 8,
   "metadata": {},
   "outputs": [
    {
     "data": {
      "text/plain": [
       "customer_unique_id           object\n",
       "customer_zip_code_prefix    float64\n",
       "customer_city                object\n",
       "customer_state               object\n",
       "order_purchase_timestamp     object\n",
       "order_id                     object\n",
       "order_status                 object\n",
       "quantity_Item                 int64\n",
       "basket_price                float64\n",
       "basket_freight_value        float64\n",
       "dtype: object"
      ]
     },
     "execution_count": 8,
     "metadata": {},
     "output_type": "execute_result"
    }
   ],
   "source": [
    "data_seg.dtypes"
   ]
  },
  {
   "cell_type": "code",
   "execution_count": 9,
   "metadata": {},
   "outputs": [
    {
     "data": {
      "text/plain": [
       "customer_unique_id                  object\n",
       "customer_zip_code_prefix           float64\n",
       "customer_city                       object\n",
       "customer_state                      object\n",
       "order_purchase_timestamp    datetime64[ns]\n",
       "order_id                            object\n",
       "order_status                        object\n",
       "quantity_Item                        int64\n",
       "basket_price                       float64\n",
       "basket_freight_value               float64\n",
       "dtype: object"
      ]
     },
     "execution_count": 9,
     "metadata": {},
     "output_type": "execute_result"
    }
   ],
   "source": [
    "#casting date column from object to date\n",
    "data_seg['order_purchase_timestamp'] = pd.to_datetime(data_seg['order_purchase_timestamp'])\n",
    "data_seg.dtypes"
   ]
  },
  {
   "cell_type": "code",
   "execution_count": 10,
   "metadata": {},
   "outputs": [
    {
     "data": {
      "text/html": [
       "<div>\n",
       "<style scoped>\n",
       "    .dataframe tbody tr th:only-of-type {\n",
       "        vertical-align: middle;\n",
       "    }\n",
       "\n",
       "    .dataframe tbody tr th {\n",
       "        vertical-align: top;\n",
       "    }\n",
       "\n",
       "    .dataframe thead th {\n",
       "        text-align: right;\n",
       "    }\n",
       "</style>\n",
       "<table border=\"1\" class=\"dataframe\">\n",
       "  <thead>\n",
       "    <tr style=\"text-align: right;\">\n",
       "      <th></th>\n",
       "      <th>customer_unique_id</th>\n",
       "      <th>count</th>\n",
       "      <th>min</th>\n",
       "      <th>max</th>\n",
       "      <th>mean</th>\n",
       "      <th>sum</th>\n",
       "    </tr>\n",
       "  </thead>\n",
       "  <tbody>\n",
       "    <tr>\n",
       "      <th>52596</th>\n",
       "      <td>8d50f5eadf50201ccdcedfb9e2ac8455</td>\n",
       "      <td>16</td>\n",
       "      <td>21.77</td>\n",
       "      <td>166.71</td>\n",
       "      <td>56.377500</td>\n",
       "      <td>902.04</td>\n",
       "    </tr>\n",
       "    <tr>\n",
       "      <th>23302</th>\n",
       "      <td>3e43e6105506432c953e165fb2acf44c</td>\n",
       "      <td>9</td>\n",
       "      <td>65.10</td>\n",
       "      <td>364.18</td>\n",
       "      <td>130.296667</td>\n",
       "      <td>1172.67</td>\n",
       "    </tr>\n",
       "    <tr>\n",
       "      <th>75559</th>\n",
       "      <td>ca77025e7201e3b30c44b472ff346268</td>\n",
       "      <td>7</td>\n",
       "      <td>78.86</td>\n",
       "      <td>289.07</td>\n",
       "      <td>160.388571</td>\n",
       "      <td>1122.72</td>\n",
       "    </tr>\n",
       "    <tr>\n",
       "      <th>37531</th>\n",
       "      <td>6469f99c1f9dfae7733b25662e7f1782</td>\n",
       "      <td>7</td>\n",
       "      <td>32.65</td>\n",
       "      <td>253.08</td>\n",
       "      <td>108.404286</td>\n",
       "      <td>758.83</td>\n",
       "    </tr>\n",
       "    <tr>\n",
       "      <th>10281</th>\n",
       "      <td>1b6c7548a2a1f9037c1fd3ddfed95f33</td>\n",
       "      <td>7</td>\n",
       "      <td>52.15</td>\n",
       "      <td>267.16</td>\n",
       "      <td>137.001429</td>\n",
       "      <td>959.01</td>\n",
       "    </tr>\n",
       "    <tr>\n",
       "      <th>37319</th>\n",
       "      <td>63cfc61cee11cbe306bff5857d00bfe4</td>\n",
       "      <td>6</td>\n",
       "      <td>84.30</td>\n",
       "      <td>238.36</td>\n",
       "      <td>137.720000</td>\n",
       "      <td>826.32</td>\n",
       "    </tr>\n",
       "    <tr>\n",
       "      <th>82304</th>\n",
       "      <td>dc813062e0fc23409cd255f7f53c7074</td>\n",
       "      <td>6</td>\n",
       "      <td>99.03</td>\n",
       "      <td>336.60</td>\n",
       "      <td>172.270000</td>\n",
       "      <td>1033.62</td>\n",
       "    </tr>\n",
       "    <tr>\n",
       "      <th>7124</th>\n",
       "      <td>12f5d6e1cbf93dafd9dcc19095df0b3d</td>\n",
       "      <td>6</td>\n",
       "      <td>15.62</td>\n",
       "      <td>19.62</td>\n",
       "      <td>18.453333</td>\n",
       "      <td>110.72</td>\n",
       "    </tr>\n",
       "    <tr>\n",
       "      <th>89813</th>\n",
       "      <td>f0e310a6839dce9de1638e0fe5ab282a</td>\n",
       "      <td>6</td>\n",
       "      <td>43.09</td>\n",
       "      <td>243.34</td>\n",
       "      <td>90.115000</td>\n",
       "      <td>540.69</td>\n",
       "    </tr>\n",
       "    <tr>\n",
       "      <th>82959</th>\n",
       "      <td>de34b16117594161a6a89c50b289d35a</td>\n",
       "      <td>5</td>\n",
       "      <td>36.78</td>\n",
       "      <td>307.26</td>\n",
       "      <td>106.076000</td>\n",
       "      <td>530.38</td>\n",
       "    </tr>\n",
       "  </tbody>\n",
       "</table>\n",
       "</div>"
      ],
      "text/plain": [
       "                     customer_unique_id  count    min     max        mean  \\\n",
       "52596  8d50f5eadf50201ccdcedfb9e2ac8455     16  21.77  166.71   56.377500   \n",
       "23302  3e43e6105506432c953e165fb2acf44c      9  65.10  364.18  130.296667   \n",
       "75559  ca77025e7201e3b30c44b472ff346268      7  78.86  289.07  160.388571   \n",
       "37531  6469f99c1f9dfae7733b25662e7f1782      7  32.65  253.08  108.404286   \n",
       "10281  1b6c7548a2a1f9037c1fd3ddfed95f33      7  52.15  267.16  137.001429   \n",
       "37319  63cfc61cee11cbe306bff5857d00bfe4      6  84.30  238.36  137.720000   \n",
       "82304  dc813062e0fc23409cd255f7f53c7074      6  99.03  336.60  172.270000   \n",
       "7124   12f5d6e1cbf93dafd9dcc19095df0b3d      6  15.62   19.62   18.453333   \n",
       "89813  f0e310a6839dce9de1638e0fe5ab282a      6  43.09  243.34   90.115000   \n",
       "82959  de34b16117594161a6a89c50b289d35a      5  36.78  307.26  106.076000   \n",
       "\n",
       "           sum  \n",
       "52596   902.04  \n",
       "23302  1172.67  \n",
       "75559  1122.72  \n",
       "37531   758.83  \n",
       "10281   959.01  \n",
       "37319   826.32  \n",
       "82304  1033.62  \n",
       "7124    110.72  \n",
       "89813   540.69  \n",
       "82959   530.38  "
      ]
     },
     "execution_count": 10,
     "metadata": {},
     "output_type": "execute_result"
    }
   ],
   "source": [
    "#Creating a new columns with number of orders perusers, min orders purchase, max orders purchase, mean and sum orders purchase \n",
    "data_seg[\"all_basket\"]= data_seg[\"basket_price\"]+data_seg[\"basket_freight_value\"]\n",
    "Orders_per_users= data_seg.groupby(by=['customer_unique_id'])['all_basket'].agg(['count','min','max','mean','sum'])\n",
    "Orders_per_users.reset_index(drop = False, inplace = True)\n",
    "Orders_per_users.sort_values(by='count',ascending=[False]).head(10)"
   ]
  },
  {
   "cell_type": "code",
   "execution_count": 14,
   "metadata": {},
   "outputs": [
    {
     "data": {
      "text/plain": [
       "datetime.date(2018, 9, 3)"
      ]
     },
     "execution_count": 14,
     "metadata": {},
     "output_type": "execute_result"
    }
   ],
   "source": [
    "#Casting order_purchase_timestamp to date \n",
    "#data_seg['order_purchase_timestamp'] = data_seg['order_purchase_timestamp'].date\n",
    "#Creating recency columns : This column is to mesure how recent the purchase of each Customer\n",
    "snopshot_date = data_seg['order_purchase_timestamp'].max().date()\n",
    "snopshot_date"
   ]
  },
  {
   "cell_type": "code",
   "execution_count": 12,
   "metadata": {},
   "outputs": [],
   "source": [
    "first_purchase = pd.DataFrame(data_seg.groupby(by=['customer_unique_id'])['order_purchase_timestamp'].min())\n",
    "last_purchase  = pd.DataFrame(data_seg.groupby(by=['customer_unique_id'])['order_purchase_timestamp'].max())"
   ]
  },
  {
   "cell_type": "code",
   "execution_count": 16,
   "metadata": {},
   "outputs": [
    {
     "data": {
      "text/html": [
       "<div>\n",
       "<style scoped>\n",
       "    .dataframe tbody tr th:only-of-type {\n",
       "        vertical-align: middle;\n",
       "    }\n",
       "\n",
       "    .dataframe tbody tr th {\n",
       "        vertical-align: top;\n",
       "    }\n",
       "\n",
       "    .dataframe thead th {\n",
       "        text-align: right;\n",
       "    }\n",
       "</style>\n",
       "<table border=\"1\" class=\"dataframe\">\n",
       "  <thead>\n",
       "    <tr style=\"text-align: right;\">\n",
       "      <th></th>\n",
       "      <th>order_purchase_timestamp</th>\n",
       "    </tr>\n",
       "    <tr>\n",
       "      <th>customer_unique_id</th>\n",
       "      <th></th>\n",
       "    </tr>\n",
       "  </thead>\n",
       "  <tbody>\n",
       "    <tr>\n",
       "      <th>0000366f3b9a7992bf8c76cfdf3221e2</th>\n",
       "      <td>116</td>\n",
       "    </tr>\n",
       "    <tr>\n",
       "      <th>0000b849f77a49e4a4ce2b2a4ca5be3f</th>\n",
       "      <td>119</td>\n",
       "    </tr>\n",
       "    <tr>\n",
       "      <th>0000f46a3911fa3c0805444483337064</th>\n",
       "      <td>542</td>\n",
       "    </tr>\n",
       "    <tr>\n",
       "      <th>0000f6ccb0745a6a4b88665a16c9f078</th>\n",
       "      <td>326</td>\n",
       "    </tr>\n",
       "    <tr>\n",
       "      <th>0004aac84e0df4da2b147fca70cf8255</th>\n",
       "      <td>293</td>\n",
       "    </tr>\n",
       "    <tr>\n",
       "      <th>...</th>\n",
       "      <td>...</td>\n",
       "    </tr>\n",
       "    <tr>\n",
       "      <th>fffcf5a5ff07b0908bd4e2dbc735a684</th>\n",
       "      <td>452</td>\n",
       "    </tr>\n",
       "    <tr>\n",
       "      <th>fffea47cd6d3cc0a88bd621562a9d061</th>\n",
       "      <td>267</td>\n",
       "    </tr>\n",
       "    <tr>\n",
       "      <th>ffff371b4d645b6ecea244b27531430a</th>\n",
       "      <td>573</td>\n",
       "    </tr>\n",
       "    <tr>\n",
       "      <th>ffff5962728ec6157033ef9805bacc48</th>\n",
       "      <td>124</td>\n",
       "    </tr>\n",
       "    <tr>\n",
       "      <th>ffffd2657e2aad2907e67c3e9daecbeb</th>\n",
       "      <td>489</td>\n",
       "    </tr>\n",
       "  </tbody>\n",
       "</table>\n",
       "<p>95419 rows × 1 columns</p>\n",
       "</div>"
      ],
      "text/plain": [
       "                                  order_purchase_timestamp\n",
       "customer_unique_id                                        \n",
       "0000366f3b9a7992bf8c76cfdf3221e2                       116\n",
       "0000b849f77a49e4a4ce2b2a4ca5be3f                       119\n",
       "0000f46a3911fa3c0805444483337064                       542\n",
       "0000f6ccb0745a6a4b88665a16c9f078                       326\n",
       "0004aac84e0df4da2b147fca70cf8255                       293\n",
       "...                                                    ...\n",
       "fffcf5a5ff07b0908bd4e2dbc735a684                       452\n",
       "fffea47cd6d3cc0a88bd621562a9d061                       267\n",
       "ffff371b4d645b6ecea244b27531430a                       573\n",
       "ffff5962728ec6157033ef9805bacc48                       124\n",
       "ffffd2657e2aad2907e67c3e9daecbeb                       489\n",
       "\n",
       "[95419 rows x 1 columns]"
      ]
     },
     "execution_count": 16,
     "metadata": {},
     "output_type": "execute_result"
    }
   ],
   "source": [
    "first_purchase_reference  = first_purchase.applymap(lambda x:(snopshot_date - x.date()).days)\n",
    "last_purchase_reference = last_purchase.applymap(lambda x:(snopshot_date - x.date()).days)\n",
    "last_purchase_reference "
   ]
  },
  {
   "cell_type": "code",
   "execution_count": 17,
   "metadata": {},
   "outputs": [
    {
     "data": {
      "text/html": [
       "<div>\n",
       "<style scoped>\n",
       "    .dataframe tbody tr th:only-of-type {\n",
       "        vertical-align: middle;\n",
       "    }\n",
       "\n",
       "    .dataframe tbody tr th {\n",
       "        vertical-align: top;\n",
       "    }\n",
       "\n",
       "    .dataframe thead th {\n",
       "        text-align: right;\n",
       "    }\n",
       "</style>\n",
       "<table border=\"1\" class=\"dataframe\">\n",
       "  <thead>\n",
       "    <tr style=\"text-align: right;\">\n",
       "      <th></th>\n",
       "      <th>customer_unique_id</th>\n",
       "      <th>count</th>\n",
       "      <th>min</th>\n",
       "      <th>max</th>\n",
       "      <th>mean</th>\n",
       "      <th>sum</th>\n",
       "      <th>Firstpurchase</th>\n",
       "      <th>LastPurchase</th>\n",
       "    </tr>\n",
       "  </thead>\n",
       "  <tbody>\n",
       "    <tr>\n",
       "      <th>52596</th>\n",
       "      <td>8d50f5eadf50201ccdcedfb9e2ac8455</td>\n",
       "      <td>16</td>\n",
       "      <td>21.77</td>\n",
       "      <td>166.71</td>\n",
       "      <td>56.377500</td>\n",
       "      <td>902.04</td>\n",
       "      <td>476</td>\n",
       "      <td>14</td>\n",
       "    </tr>\n",
       "    <tr>\n",
       "      <th>23302</th>\n",
       "      <td>3e43e6105506432c953e165fb2acf44c</td>\n",
       "      <td>9</td>\n",
       "      <td>65.10</td>\n",
       "      <td>364.18</td>\n",
       "      <td>130.296667</td>\n",
       "      <td>1172.67</td>\n",
       "      <td>350</td>\n",
       "      <td>188</td>\n",
       "    </tr>\n",
       "    <tr>\n",
       "      <th>75559</th>\n",
       "      <td>ca77025e7201e3b30c44b472ff346268</td>\n",
       "      <td>7</td>\n",
       "      <td>78.86</td>\n",
       "      <td>289.07</td>\n",
       "      <td>160.388571</td>\n",
       "      <td>1122.72</td>\n",
       "      <td>329</td>\n",
       "      <td>94</td>\n",
       "    </tr>\n",
       "    <tr>\n",
       "      <th>37531</th>\n",
       "      <td>6469f99c1f9dfae7733b25662e7f1782</td>\n",
       "      <td>7</td>\n",
       "      <td>32.65</td>\n",
       "      <td>253.08</td>\n",
       "      <td>108.404286</td>\n",
       "      <td>758.83</td>\n",
       "      <td>349</td>\n",
       "      <td>67</td>\n",
       "    </tr>\n",
       "    <tr>\n",
       "      <th>10281</th>\n",
       "      <td>1b6c7548a2a1f9037c1fd3ddfed95f33</td>\n",
       "      <td>7</td>\n",
       "      <td>52.15</td>\n",
       "      <td>267.16</td>\n",
       "      <td>137.001429</td>\n",
       "      <td>959.01</td>\n",
       "      <td>294</td>\n",
       "      <td>201</td>\n",
       "    </tr>\n",
       "    <tr>\n",
       "      <th>37319</th>\n",
       "      <td>63cfc61cee11cbe306bff5857d00bfe4</td>\n",
       "      <td>6</td>\n",
       "      <td>84.30</td>\n",
       "      <td>238.36</td>\n",
       "      <td>137.720000</td>\n",
       "      <td>826.32</td>\n",
       "      <td>480</td>\n",
       "      <td>98</td>\n",
       "    </tr>\n",
       "    <tr>\n",
       "      <th>82304</th>\n",
       "      <td>dc813062e0fc23409cd255f7f53c7074</td>\n",
       "      <td>6</td>\n",
       "      <td>99.03</td>\n",
       "      <td>336.60</td>\n",
       "      <td>172.270000</td>\n",
       "      <td>1033.62</td>\n",
       "      <td>429</td>\n",
       "      <td>11</td>\n",
       "    </tr>\n",
       "    <tr>\n",
       "      <th>7124</th>\n",
       "      <td>12f5d6e1cbf93dafd9dcc19095df0b3d</td>\n",
       "      <td>6</td>\n",
       "      <td>15.62</td>\n",
       "      <td>19.62</td>\n",
       "      <td>18.453333</td>\n",
       "      <td>110.72</td>\n",
       "      <td>606</td>\n",
       "      <td>606</td>\n",
       "    </tr>\n",
       "    <tr>\n",
       "      <th>89813</th>\n",
       "      <td>f0e310a6839dce9de1638e0fe5ab282a</td>\n",
       "      <td>6</td>\n",
       "      <td>43.09</td>\n",
       "      <td>243.34</td>\n",
       "      <td>90.115000</td>\n",
       "      <td>540.69</td>\n",
       "      <td>471</td>\n",
       "      <td>151</td>\n",
       "    </tr>\n",
       "    <tr>\n",
       "      <th>82959</th>\n",
       "      <td>de34b16117594161a6a89c50b289d35a</td>\n",
       "      <td>5</td>\n",
       "      <td>36.78</td>\n",
       "      <td>307.26</td>\n",
       "      <td>106.076000</td>\n",
       "      <td>530.38</td>\n",
       "      <td>304</td>\n",
       "      <td>229</td>\n",
       "    </tr>\n",
       "  </tbody>\n",
       "</table>\n",
       "</div>"
      ],
      "text/plain": [
       "                     customer_unique_id  count    min     max        mean  \\\n",
       "52596  8d50f5eadf50201ccdcedfb9e2ac8455     16  21.77  166.71   56.377500   \n",
       "23302  3e43e6105506432c953e165fb2acf44c      9  65.10  364.18  130.296667   \n",
       "75559  ca77025e7201e3b30c44b472ff346268      7  78.86  289.07  160.388571   \n",
       "37531  6469f99c1f9dfae7733b25662e7f1782      7  32.65  253.08  108.404286   \n",
       "10281  1b6c7548a2a1f9037c1fd3ddfed95f33      7  52.15  267.16  137.001429   \n",
       "37319  63cfc61cee11cbe306bff5857d00bfe4      6  84.30  238.36  137.720000   \n",
       "82304  dc813062e0fc23409cd255f7f53c7074      6  99.03  336.60  172.270000   \n",
       "7124   12f5d6e1cbf93dafd9dcc19095df0b3d      6  15.62   19.62   18.453333   \n",
       "89813  f0e310a6839dce9de1638e0fe5ab282a      6  43.09  243.34   90.115000   \n",
       "82959  de34b16117594161a6a89c50b289d35a      5  36.78  307.26  106.076000   \n",
       "\n",
       "           sum  Firstpurchase  LastPurchase  \n",
       "52596   902.04            476            14  \n",
       "23302  1172.67            350           188  \n",
       "75559  1122.72            329            94  \n",
       "37531   758.83            349            67  \n",
       "10281   959.01            294           201  \n",
       "37319   826.32            480            98  \n",
       "82304  1033.62            429            11  \n",
       "7124    110.72            606           606  \n",
       "89813   540.69            471           151  \n",
       "82959   530.38            304           229  "
      ]
     },
     "execution_count": 17,
     "metadata": {},
     "output_type": "execute_result"
    }
   ],
   "source": [
    "Orders_per_users.loc[:, 'Firstpurchase'] = first_purchase_reference.reset_index(drop = False)['order_purchase_timestamp']\n",
    "Orders_per_users.loc[:, 'LastPurchase'] = last_purchase_reference.reset_index(drop = False)['order_purchase_timestamp']\n",
    "Orders_per_users.sort_values(by=['count'],ascending=[False]).head(10)"
   ]
  },
  {
   "cell_type": "code",
   "execution_count": 18,
   "metadata": {},
   "outputs": [
    {
     "name": "stdout",
     "output_type": "stream",
     "text": [
      "count            12.320191\n",
      "min               9.282873\n",
      "max               9.156160\n",
      "mean              9.253868\n",
      "sum               9.088502\n",
      "Firstpurchase     0.430562\n",
      "LastPurchase      0.448743\n",
      "dtype: float64\n"
     ]
    },
    {
     "name": "stderr",
     "output_type": "stream",
     "text": [
      "/var/folders/r7/s01drwz93kxgfqb5rcpz0zqh0000gn/T/ipykernel_95494/727909629.py:2: FutureWarning: Dropping of nuisance columns in DataFrame reductions (with 'numeric_only=None') is deprecated; in a future version this will raise TypeError.  Select only valid columns before calling the reduction.\n",
      "  print(Orders_per_users.skew())\n"
     ]
    }
   ],
   "source": [
    "#Manage skewness : \n",
    "print(Orders_per_users.skew())"
   ]
  },
  {
   "cell_type": "markdown",
   "metadata": {},
   "source": [
    "count , mi, max, mean and sum are highly skewed so we have to apply transformation to have symmetrical shape"
   ]
  },
  {
   "cell_type": "code",
   "execution_count": 19,
   "metadata": {},
   "outputs": [],
   "source": [
    "Orders_per_users[\"min\"] = stats.boxcox(Orders_per_users['min'])[0]\n",
    "Orders_per_users[\"max\"] = stats.boxcox(Orders_per_users['max'])[0]\n",
    "Orders_per_users[\"mean\"] = stats.boxcox(Orders_per_users['mean'])[0]\n",
    "Orders_per_users[\"sum\"] = stats.boxcox(Orders_per_users['sum'])[0]"
   ]
  },
  {
   "cell_type": "code",
   "execution_count": 20,
   "metadata": {},
   "outputs": [
    {
     "name": "stdout",
     "output_type": "stream",
     "text": [
      "count            12.320191\n",
      "min               0.005714\n",
      "max               0.005180\n",
      "mean              0.004844\n",
      "sum               0.006477\n",
      "Firstpurchase     0.430562\n",
      "LastPurchase      0.448743\n",
      "dtype: float64\n"
     ]
    },
    {
     "name": "stderr",
     "output_type": "stream",
     "text": [
      "/var/folders/r7/s01drwz93kxgfqb5rcpz0zqh0000gn/T/ipykernel_95494/176691582.py:1: FutureWarning: Dropping of nuisance columns in DataFrame reductions (with 'numeric_only=None') is deprecated; in a future version this will raise TypeError.  Select only valid columns before calling the reduction.\n",
      "  print(Orders_per_users.skew())\n"
     ]
    }
   ],
   "source": [
    "print(Orders_per_users.skew())"
   ]
  },
  {
   "cell_type": "code",
   "execution_count": 21,
   "metadata": {},
   "outputs": [
    {
     "data": {
      "text/html": [
       "<div>\n",
       "<style scoped>\n",
       "    .dataframe tbody tr th:only-of-type {\n",
       "        vertical-align: middle;\n",
       "    }\n",
       "\n",
       "    .dataframe tbody tr th {\n",
       "        vertical-align: top;\n",
       "    }\n",
       "\n",
       "    .dataframe thead th {\n",
       "        text-align: right;\n",
       "    }\n",
       "</style>\n",
       "<table border=\"1\" class=\"dataframe\">\n",
       "  <thead>\n",
       "    <tr style=\"text-align: right;\">\n",
       "      <th></th>\n",
       "      <th>customer_unique_id</th>\n",
       "      <th>count</th>\n",
       "      <th>min</th>\n",
       "      <th>max</th>\n",
       "      <th>mean</th>\n",
       "      <th>sum</th>\n",
       "      <th>Firstpurchase</th>\n",
       "      <th>LastPurchase</th>\n",
       "    </tr>\n",
       "  </thead>\n",
       "  <tbody>\n",
       "    <tr>\n",
       "      <th>0</th>\n",
       "      <td>0000366f3b9a7992bf8c76cfdf3221e2</td>\n",
       "      <td>1</td>\n",
       "      <td>3.076447</td>\n",
       "      <td>3.108036</td>\n",
       "      <td>3.091658</td>\n",
       "      <td>3.125397</td>\n",
       "      <td>116</td>\n",
       "      <td>116</td>\n",
       "    </tr>\n",
       "    <tr>\n",
       "      <th>1</th>\n",
       "      <td>0000b849f77a49e4a4ce2b2a4ca5be3f</td>\n",
       "      <td>1</td>\n",
       "      <td>2.380205</td>\n",
       "      <td>2.397553</td>\n",
       "      <td>2.388568</td>\n",
       "      <td>2.407052</td>\n",
       "      <td>119</td>\n",
       "      <td>119</td>\n",
       "    </tr>\n",
       "    <tr>\n",
       "      <th>2</th>\n",
       "      <td>0000f46a3911fa3c0805444483337064</td>\n",
       "      <td>1</td>\n",
       "      <td>2.891369</td>\n",
       "      <td>2.918591</td>\n",
       "      <td>2.904481</td>\n",
       "      <td>2.933536</td>\n",
       "      <td>542</td>\n",
       "      <td>542</td>\n",
       "    </tr>\n",
       "    <tr>\n",
       "      <th>3</th>\n",
       "      <td>0000f6ccb0745a6a4b88665a16c9f078</td>\n",
       "      <td>1</td>\n",
       "      <td>2.604671</td>\n",
       "      <td>2.625990</td>\n",
       "      <td>2.614945</td>\n",
       "      <td>2.637677</td>\n",
       "      <td>326</td>\n",
       "      <td>326</td>\n",
       "    </tr>\n",
       "    <tr>\n",
       "      <th>4</th>\n",
       "      <td>0004aac84e0df4da2b147fca70cf8255</td>\n",
       "      <td>1</td>\n",
       "      <td>3.187956</td>\n",
       "      <td>3.222413</td>\n",
       "      <td>3.204544</td>\n",
       "      <td>3.241362</td>\n",
       "      <td>293</td>\n",
       "      <td>293</td>\n",
       "    </tr>\n",
       "    <tr>\n",
       "      <th>...</th>\n",
       "      <td>...</td>\n",
       "      <td>...</td>\n",
       "      <td>...</td>\n",
       "      <td>...</td>\n",
       "      <td>...</td>\n",
       "      <td>...</td>\n",
       "      <td>...</td>\n",
       "      <td>...</td>\n",
       "    </tr>\n",
       "    <tr>\n",
       "      <th>95414</th>\n",
       "      <td>fffcf5a5ff07b0908bd4e2dbc735a684</td>\n",
       "      <td>1</td>\n",
       "      <td>3.797877</td>\n",
       "      <td>3.851893</td>\n",
       "      <td>3.823841</td>\n",
       "      <td>3.881734</td>\n",
       "      <td>452</td>\n",
       "      <td>452</td>\n",
       "    </tr>\n",
       "    <tr>\n",
       "      <th>95415</th>\n",
       "      <td>fffea47cd6d3cc0a88bd621562a9d061</td>\n",
       "      <td>1</td>\n",
       "      <td>2.883839</td>\n",
       "      <td>2.910893</td>\n",
       "      <td>2.896871</td>\n",
       "      <td>2.925745</td>\n",
       "      <td>267</td>\n",
       "      <td>267</td>\n",
       "    </tr>\n",
       "    <tr>\n",
       "      <th>95416</th>\n",
       "      <td>ffff371b4d645b6ecea244b27531430a</td>\n",
       "      <td>1</td>\n",
       "      <td>2.992481</td>\n",
       "      <td>3.022031</td>\n",
       "      <td>3.006712</td>\n",
       "      <td>3.038263</td>\n",
       "      <td>573</td>\n",
       "      <td>573</td>\n",
       "    </tr>\n",
       "    <tr>\n",
       "      <th>95417</th>\n",
       "      <td>ffff5962728ec6157033ef9805bacc48</td>\n",
       "      <td>1</td>\n",
       "      <td>3.055316</td>\n",
       "      <td>3.086382</td>\n",
       "      <td>3.070275</td>\n",
       "      <td>3.103454</td>\n",
       "      <td>124</td>\n",
       "      <td>124</td>\n",
       "    </tr>\n",
       "    <tr>\n",
       "      <th>95418</th>\n",
       "      <td>ffffd2657e2aad2907e67c3e9daecbeb</td>\n",
       "      <td>1</td>\n",
       "      <td>2.816995</td>\n",
       "      <td>2.842589</td>\n",
       "      <td>2.829325</td>\n",
       "      <td>2.856635</td>\n",
       "      <td>489</td>\n",
       "      <td>489</td>\n",
       "    </tr>\n",
       "  </tbody>\n",
       "</table>\n",
       "<p>95419 rows × 8 columns</p>\n",
       "</div>"
      ],
      "text/plain": [
       "                     customer_unique_id  count       min       max      mean  \\\n",
       "0      0000366f3b9a7992bf8c76cfdf3221e2      1  3.076447  3.108036  3.091658   \n",
       "1      0000b849f77a49e4a4ce2b2a4ca5be3f      1  2.380205  2.397553  2.388568   \n",
       "2      0000f46a3911fa3c0805444483337064      1  2.891369  2.918591  2.904481   \n",
       "3      0000f6ccb0745a6a4b88665a16c9f078      1  2.604671  2.625990  2.614945   \n",
       "4      0004aac84e0df4da2b147fca70cf8255      1  3.187956  3.222413  3.204544   \n",
       "...                                 ...    ...       ...       ...       ...   \n",
       "95414  fffcf5a5ff07b0908bd4e2dbc735a684      1  3.797877  3.851893  3.823841   \n",
       "95415  fffea47cd6d3cc0a88bd621562a9d061      1  2.883839  2.910893  2.896871   \n",
       "95416  ffff371b4d645b6ecea244b27531430a      1  2.992481  3.022031  3.006712   \n",
       "95417  ffff5962728ec6157033ef9805bacc48      1  3.055316  3.086382  3.070275   \n",
       "95418  ffffd2657e2aad2907e67c3e9daecbeb      1  2.816995  2.842589  2.829325   \n",
       "\n",
       "            sum  Firstpurchase  LastPurchase  \n",
       "0      3.125397            116           116  \n",
       "1      2.407052            119           119  \n",
       "2      2.933536            542           542  \n",
       "3      2.637677            326           326  \n",
       "4      3.241362            293           293  \n",
       "...         ...            ...           ...  \n",
       "95414  3.881734            452           452  \n",
       "95415  2.925745            267           267  \n",
       "95416  3.038263            573           573  \n",
       "95417  3.103454            124           124  \n",
       "95418  2.856635            489           489  \n",
       "\n",
       "[95419 rows x 8 columns]"
      ]
     },
     "execution_count": 21,
     "metadata": {},
     "output_type": "execute_result"
    }
   ],
   "source": [
    "Orders_per_users"
   ]
  },
  {
   "cell_type": "markdown",
   "metadata": {},
   "source": [
    "The mean is  of the sum/count so we can not use the count colum and the sum column"
   ]
  },
  {
   "cell_type": "markdown",
   "metadata": {},
   "source": [
    "Normalizing data"
   ]
  },
  {
   "cell_type": "code",
   "execution_count": 35,
   "metadata": {},
   "outputs": [
    {
     "name": "stdout",
     "output_type": "stream",
     "text": [
      "[ 0.  0. -0. -0.  0.]\n",
      "[1. 1. 1. 1. 1.]\n"
     ]
    }
   ],
   "source": [
    "# Import library\n",
    "# Initialize the Object\n",
    "Orders_per_users2 = Orders_per_users[[\"min\",\"max\",\"mean\",\"Firstpurchase\",\"LastPurchase\"]]\n",
    "scaler = StandardScaler()# Fit and Transform The Data\n",
    "scaler.fit(Orders_per_users2)\n",
    "customers_normalized = scaler.transform(Orders_per_users2)# Assert that it has mean 0 and variance 1\n",
    "print(customers_normalized.mean(axis = 0).round(2)) # [0. -0. 0.]\n",
    "print(customers_normalized.std(axis = 0).round(2))"
   ]
  },
  {
   "cell_type": "code",
   "execution_count": 36,
   "metadata": {},
   "outputs": [
    {
     "data": {
      "text/plain": [
       "array([[ 0.41312497,  0.38891632,  0.39892961, -0.84724251, -0.83246357],\n",
       "       [-1.94271099, -1.96552848, -1.96575756, -0.82771841, -0.81287629],\n",
       "       [-0.21311315, -0.23887988, -0.23059696,  1.92518022,  1.9489296 ],\n",
       "       ...,\n",
       "       [ 0.12901546,  0.10390742,  0.1132349 ,  2.12692929,  2.15133145],\n",
       "       [ 0.34162454,  0.31715847,  0.32701519, -0.79517824, -0.78023083],\n",
       "       [-0.46477001, -0.49073945, -0.48337001,  1.58025439,  1.60288773]])"
      ]
     },
     "execution_count": 36,
     "metadata": {},
     "output_type": "execute_result"
    }
   ],
   "source": [
    "customers_normalized "
   ]
  },
  {
   "cell_type": "code",
   "execution_count": 37,
   "metadata": {},
   "outputs": [
    {
     "data": {
      "image/png": "[encoded data removed]",
      "text/plain": [
       "<Figure size 432x288 with 1 Axes>"
      ]
     },
     "metadata": {
      "needs_background": "light"
     },
     "output_type": "display_data"
    }
   ],
   "source": [
    "from sklearn.cluster import KMeans\n",
    "Inertia = {}\n",
    "for k in range(1, 11):\n",
    "    kmeans = KMeans(n_clusters=k, random_state=42)\n",
    "    kmeans.fit(customers_normalized)\n",
    "    Inertia[k] = kmeans.inertia_ # SSE to closest cluster centroidplt.title('The Elbow Method')\n",
    "plt.xlabel('k')\n",
    "plt.ylabel('SSE')\n",
    "sns.pointplot(x=list(Inertia.keys()), y=list(Inertia.values()))\n",
    "plt.show()"
   ]
  },
  {
   "cell_type": "markdown",
   "metadata": {},
   "source": [
    "We can choose the cutoff at 3 clusters"
   ]
  },
  {
   "cell_type": "code",
   "execution_count": 38,
   "metadata": {},
   "outputs": [],
   "source": [
    "kmeans_model = KMeans(n_clusters=3, random_state=42)\n",
    "kmeans_model.fit(customers_normalized)"
   ]
  },
  {
   "cell_type": "code",
   "execution_count": 41,
   "metadata": {},
   "outputs": [
    {
     "name": "stderr",
     "output_type": "stream",
     "text": [
      "/usr/local/lib/python3.9/site-packages/seaborn/_decorators.py:36: FutureWarning: Pass the following variables as keyword args: x, y. From version 0.12, the only valid positional argument will be `data`, and passing other arguments without an explicit keyword will result in an error or misinterpretation.\n",
      "  warnings.warn(\n"
     ]
    },
    {
     "data": {
      "text/plain": [
       "<AxesSubplot:xlabel='Attribute', ylabel='Value'>"
      ]
     },
     "execution_count": 41,
     "metadata": {},
     "output_type": "execute_result"
    },
    {
     "data": {
      "image/png": "[encoded data removed]",
      "text/plain": [
       "<Figure size 432x288 with 1 Axes>"
      ]
     },
     "metadata": {
      "needs_background": "light"
     },
     "output_type": "display_data"
    }
   ],
   "source": [
    "df_normalized = pd.DataFrame(customers_normalized, columns=[\"min\",\"max\",\"mean\",\"Firstpurchase\",\"LastPurchase\"])\n",
    "df_normalized['customer_unique_id'] = Orders_per_users['customer_unique_id']\n",
    "df_normalized['Cluster'] = kmeans_model.labels_\n",
    "df_nor_melt = pd.melt(df_normalized.reset_index(),\n",
    "                      id_vars=['customer_unique_id', 'Cluster'],\n",
    "                      value_vars=[\"min\",\"max\",\"mean\",\"Firstpurchase\",\"LastPurchase\"],\n",
    "                      var_name='Attribute',\n",
    "                      value_name='Value')\n",
    "df_nor_melt.head()# Visualize it\n",
    "sns.lineplot('Attribute', 'Value', hue='Cluster', data=df_nor_melt)"
   ]
  },
  {
   "cell_type": "markdown",
   "metadata": {},
   "source": [
    "Cluster2 is the cluster where customers spend money and return recently to buy a product ==> Loyal customer "
   ]
  },
  {
   "cell_type": "markdown",
   "metadata": {},
   "source": [
    "Cluster0 spend less money but they make their first and last purchase at an old time ==> Churn customer "
   ]
  },
  {
   "cell_type": "markdown",
   "metadata": {},
   "source": [
    "cluster1 spend few money and are making recent purchase ==> new customer"
   ]
  },
  {
   "cell_type": "code",
   "execution_count": null,
   "metadata": {},
   "outputs": [],
   "source": []
  }
 ],
 "metadata": {
  "kernelspec": {
   "display_name": "Python 3 (ipykernel)",
   "language": "python",
   "name": "python3"
  },
  "language_info": {
   "codemirror_mode": {
    "name": "ipython",
    "version": 3
   },
   "file_extension": ".py",
   "mimetype": "text/x-python",
   "name": "python",
   "nbconvert_exporter": "python",
   "pygments_lexer": "ipython3",
   "version": "3.9.7"
  }
 },
 "nbformat": 4,
 "nbformat_minor": 4
}
